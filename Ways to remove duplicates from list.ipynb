{
 "cells": [
  {
   "cell_type": "code",
   "execution_count": 2,
   "id": "f4d553a4",
   "metadata": {},
   "outputs": [],
   "source": [
    "def remove_duplicate_list(lst):\n",
    "    return set(lst)"
   ]
  },
  {
   "cell_type": "code",
   "execution_count": 5,
   "id": "135fe710",
   "metadata": {},
   "outputs": [],
   "source": [
    "lst1=[1,2,3,2,4,5,4,6,5,7,8,9,7]"
   ]
  },
  {
   "cell_type": "code",
   "execution_count": 7,
   "id": "47007643",
   "metadata": {},
   "outputs": [
    {
     "data": {
      "text/plain": [
       "{1, 2, 3, 4, 5, 6, 7, 8, 9}"
      ]
     },
     "execution_count": 7,
     "metadata": {},
     "output_type": "execute_result"
    }
   ],
   "source": [
    "remove_duplicate_list(lst1)"
   ]
  },
  {
   "cell_type": "code",
   "execution_count": 8,
   "id": "170e8699",
   "metadata": {},
   "outputs": [
    {
     "name": "stdout",
     "output_type": "stream",
     "text": [
      "The original list is : [1, 5, 3, 6, 3, 5, 6, 1]\n",
      "The list after removing duplicates : [1, 3, 5, 6]\n"
     ]
    }
   ],
   "source": [
    "test_list = [1, 5, 3, 6, 3, 5, 6, 1]\n",
    "print (\"The original list is : \"\n",
    "        + str(test_list))\n",
    " \n",
    "# using set() to remove duplicated from list\n",
    "test_list = list(set(test_list))\n",
    " \n",
    "# printing list after removal\n",
    "# distorted ordering\n",
    "print (\"The list after removing duplicates : \"\n",
    "        + str(test_list))"
   ]
  },
  {
   "cell_type": "code",
   "execution_count": 9,
   "id": "a7f7c215",
   "metadata": {},
   "outputs": [
    {
     "name": "stdout",
     "output_type": "stream",
     "text": [
      "The original list is : [1, 3, 5, 6, 3, 5, 6, 1]\n",
      "The list after removing duplicates : [1, 3, 5, 6]\n"
     ]
    }
   ],
   "source": [
    "test_list = [1, 3, 5, 6, 3, 5, 6, 1]\n",
    "print(\"The original list is : \"\n",
    "      + str(test_list))\n",
    " \n",
    "# using list comprehension to remove duplicated from list\n",
    "res = []\n",
    "[res.append(x) for x in test_list if x not in res]\n",
    " \n",
    "# printing list after removal\n",
    "print (\"The list after removing duplicates : \"\n",
    "       + str(res))"
   ]
  },
  {
   "cell_type": "code",
   "execution_count": 10,
   "id": "e1f49cde",
   "metadata": {},
   "outputs": [
    {
     "name": "stdout",
     "output_type": "stream",
     "text": [
      "The original list is : [1, 5, 3, 6, 3, 5, 6, 1]\n",
      "The list after removing duplicates : [1, 5, 3, 6]\n"
     ]
    }
   ],
   "source": [
    "test_list = [1, 5, 3, 6, 3, 5, 6, 1]\n",
    "print (\"The original list is : \"\n",
    "        + str(test_list))\n",
    " \n",
    "# using list comprehension + enumerate() to remove duplicated from list\n",
    "res = [i for n, i in enumerate(test_list) if i not in test_list[:n]]\n",
    " \n",
    "# printing list after removal\n",
    "print (\"The list after removing duplicates : \"\n",
    "        + str(res))"
   ]
  },
  {
   "cell_type": "code",
   "execution_count": 11,
   "id": "5176a8bc",
   "metadata": {},
   "outputs": [
    {
     "name": "stdout",
     "output_type": "stream",
     "text": [
      "The original list is : [1, 5, 3, 6, 3, 5, 6, 1]\n",
      "The list after removing duplicates : [1, 5, 3, 6]\n"
     ]
    }
   ],
   "source": [
    "test_list = [1, 5, 3, 6, 3, 5, 6, 1]\n",
    "print(\"The original list is : \" + str(test_list))\n",
    " \n",
    "res = []\n",
    "for i in test_list:\n",
    "    if i not in res:\n",
    "        res.append(i)\n",
    "print(\"The list after removing duplicates : \" + str(res))"
   ]
  },
  {
   "cell_type": "code",
   "execution_count": 12,
   "id": "520c7493",
   "metadata": {},
   "outputs": [
    {
     "name": "stdout",
     "output_type": "stream",
     "text": [
      "The original list is : [1, 5, 3, 6, 3, 5, 6, 1]\n",
      "The list after removing duplicates : [1, 5, 3, 6]\n"
     ]
    }
   ],
   "source": [
    "arr = [1, 5, 3, 6, 3, 5, 6, 1]\n",
    "print ('The original list is : '+ str(arr))\n",
    " \n",
    "# using list comprehension + arr.index()\n",
    "res = [arr[i] for i in range(len(arr)) if i == arr.index(arr[i]) ]\n",
    " \n",
    "# printing list after removal of duplicate\n",
    "print('The list after removing duplicates :'\n",
    "        ,res)"
   ]
  },
  {
   "cell_type": "code",
   "execution_count": null,
   "id": "73ec20a9",
   "metadata": {},
   "outputs": [],
   "source": []
  }
 ],
 "metadata": {
  "kernelspec": {
   "display_name": "Python 3 (ipykernel)",
   "language": "python",
   "name": "python3"
  },
  "language_info": {
   "codemirror_mode": {
    "name": "ipython",
    "version": 3
   },
   "file_extension": ".py",
   "mimetype": "text/x-python",
   "name": "python",
   "nbconvert_exporter": "python",
   "pygments_lexer": "ipython3",
   "version": "3.9.17"
  }
 },
 "nbformat": 4,
 "nbformat_minor": 5
}
